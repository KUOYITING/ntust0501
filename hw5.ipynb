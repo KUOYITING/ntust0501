{
 "cells": [
  {
   "cell_type": "code",
   "execution_count": 12,
   "metadata": {},
   "outputs": [
    {
     "name": "stdout",
     "output_type": "stream",
     "text": [
      "enter function:add\n",
      "enter num1:1\n",
      "enter num2:2\n",
      "3\n"
     ]
    }
   ],
   "source": [
    "def add(arg1,arg2):\n",
    "    print(arg1+arg2)\n",
    "def sub(arg1,arg2):\n",
    "    print(arg1-arg2)\n",
    "def mul(arg1,arg2):\n",
    "    print(arg1*arg2)\n",
    "def div(arg1,arg2):\n",
    "    print(arg1/arg2)\n",
    "def run(func,arg1,arg2):\n",
    "    func(arg1,arg2)\n",
    "func=input(\"enter function:\")\n",
    "num1=eval(input(\"enter num1:\"))\n",
    "num2=eval(input(\"enter num2:\"))\n",
    "if func==\"add\":\n",
    "    run(add,num1,num2)\n",
    "elif func==\"sub\":\n",
    "    run(sub,num1,num2)\n",
    "elif func==\"mul\":\n",
    "    run(mul,num1,num2)\n",
    "elif func==\"div\":\n",
    "    run(div,num1,num2)"
   ]
  },
  {
   "cell_type": "code",
   "execution_count": null,
   "metadata": {},
   "outputs": [],
   "source": []
  }
 ],
 "metadata": {
  "kernelspec": {
   "display_name": "Python 3",
   "language": "python",
   "name": "python3"
  },
  "language_info": {
   "codemirror_mode": {
    "name": "ipython",
    "version": 3
   },
   "file_extension": ".py",
   "mimetype": "text/x-python",
   "name": "python",
   "nbconvert_exporter": "python",
   "pygments_lexer": "ipython3",
   "version": "3.6.4"
  }
 },
 "nbformat": 4,
 "nbformat_minor": 2
}
